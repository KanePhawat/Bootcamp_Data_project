{
 "cells":[
  {
   "cell_type":"markdown",
   "source":[
    "# **Homework**\n",
    "date : 14\/11\/2022"
   ],
   "attachments":{
    
   },
   "metadata":{
    "datalore":{
     "node_id":"a7AHJQUxcyj7OABdg7W1C7",
     "type":"MD",
     "hide_input_from_viewers":false,
     "hide_output_from_viewers":false,
     "report_properties":{
      "x":0,
      "y":0,
      "height":5,
      "splitHeight":2
     }
    }
   }
  },
  {
   "cell_type":"markdown",
   "source":[
    "## HOMEWORK: I. Pao Ying Shub"
   ],
   "attachments":{
    
   },
   "metadata":{
    "datalore":{
     "node_id":"4El2y5PKdqvy5TTQahsT1E",
     "type":"MD",
     "hide_input_from_viewers":false,
     "hide_output_from_viewers":false,
     "report_properties":{
      "x":0,
      "y":5,
      "height":3,
      "splitHeight":2
     }
    }
   }
  },
  {
   "cell_type":"code",
   "source":[
    "from random import sample\n",
    "\n",
    "#function\n",
    "def paoyingshub():\n",
    "    # Defining\n",
    "    win_p = 0\n",
    "    win_ai = 0\n",
    "    draw = 0\n",
    "    times = 0\n",
    "    cards =['r','s','p']\n",
    "\n",
    "    #Greeting \n",
    "    print(\"What is your name?\")\n",
    "    player_name = input(\"Enter your name: \")\n",
    "    print(f\"Hello! Khun. {player_name} Glad to meet you\\n\")\n",
    "\n",
    "    #Start the game\n",
    "    print(\"Would you like to start game now?\")\n",
    "    action1 = input(\"[Y\/N]: \")\n",
    "    while action1.lower() == 'y':\n",
    "        print(\"Before going to start the game, please read the basic rules.\")\n",
    "        print(\"enter 'r' for Rock\")\n",
    "        print(\"enter 's' for Scissors\")  \n",
    "        print(\"enter 'p' for Paper\")\n",
    "        print(\"enter 'q' to end the game\\n\")\n",
    "        print(\"Let's start!!\")\n",
    "        while True:\n",
    "            print(\"What do your choose\\n\")\n",
    "            player = input(\"[r\/s\/p\/q]:\")\n",
    "            ai = sample(cards,1)\n",
    "            ai = ai[0]\n",
    "            if player.lower() == ai:\n",
    "                print(f\"AI:{ai},{player_name}:{player}\")\n",
    "                print(\"Draw!!\\n\")\n",
    "                draw = draw+1\n",
    "                times = times+1\n",
    "            elif (player.lower() == \"r\" and ai == \"s\") or (player.lower() == \"s\" and ai == \"p\") or (player.lower() == \"p\" and ai == \"r\"):\n",
    "                print(f\"AI:{ai},{player_name}:{player}\")\n",
    "                print(\"You wins!\\n\")\n",
    "                win_p = win_p+1\n",
    "                times = times+1\n",
    "            elif (player.lower() == \"r\" and ai == \"p\") or (player.lower() == \"s\" and ai == \"r\") or (player.lower() == \"p\" and ai == \"s\"):\n",
    "                print(f\"AI:{ai},{player_name}:{player}\")\n",
    "                print(\"You lose!\\n\")\n",
    "                win_ai = win_ai+1\n",
    "                times = times+1\n",
    "            elif player.lower() == \"q\":\n",
    "                break\n",
    "            else:\n",
    "                print(\"!!INCORRECT WORD!! Please try again\")\n",
    "        # summarize\n",
    "        print(\"---------------------TOTAL SCORES---------------------\")\n",
    "        print(f\"Playing times:\\t {times} times\")\n",
    "        print(f\"Player Wins:\\t {win_p} times\")\n",
    "        print(f\"AI Wins:\\t {win_ai} times\")\n",
    "        print(f\"Draws:\\t\\t {draw} times\")\n",
    "        print(\"======================================================\")\n",
    "        if win_p > win_ai:\n",
    "            print(f\"** {player_name} Wins!! **\\n\")\n",
    "        elif win_p < win_ai:\n",
    "            print(\"** AI Wins!! **\\n\")\n",
    "        else:\n",
    "            print(\"** Draw!! **\\n\")\n",
    "        print(\"Thank you playing, see ya!\")\n",
    "        print(\"Quit the game\")\n",
    "        break\n",
    "\n",
    "\n",
    "    "
   ],
   "execution_count":null,
   "outputs":[
    
   ],
   "metadata":{
    "datalore":{
     "node_id":"OjYzQsB2SpDJKxEcP8zoow",
     "type":"CODE",
     "hide_input_from_viewers":false,
     "hide_output_from_viewers":false,
     "report_properties":{
      "x":0,
      "y":8,
      "height":34,
      "splitHeight":33
     }
    }
   }
  },
  {
   "cell_type":"code",
   "source":[
    "paoyingshub()"
   ],
   "execution_count":null,
   "outputs":[
    {
     "name":"stdout",
     "text":[
      "What is your name?\n",
      "Enter your name:  kane\n",
      "Hello! Khun. kane Glad to meet you\n",
      "\n",
      "Would you like to start game now?\n",
      "[Y\/N]:  y\n",
      "Before going to start the game, please read the basic rules.\n",
      "enter 'r' for Rock\n",
      "enter 's' for Scissors\n",
      "enter 'p' for Paper\n",
      "enter 'q' to end the game\n",
      "\n",
      "Let's start!!\n",
      "What do your choose\n",
      "\n",
      "[r\/s\/p\/q]: r\n",
      "AI:r,kane:r\n",
      "Draw!!\n",
      "\n",
      "What do your choose\n",
      "\n",
      "[r\/s\/p\/q]: s\n",
      "AI:s,kane:s\n",
      "Draw!!\n",
      "\n",
      "What do your choose\n",
      "\n",
      "[r\/s\/p\/q]: p\n",
      "AI:s,kane:p\n",
      "You lose!\n",
      "\n",
      "What do your choose\n",
      "\n",
      "[r\/s\/p\/q]: p\n",
      "AI:p,kane:p\n",
      "Draw!!\n",
      "\n",
      "What do your choose\n",
      "\n",
      "[r\/s\/p\/q]: s\n",
      "AI:p,kane:s\n",
      "You wins!\n",
      "\n",
      "What do your choose\n",
      "\n",
      "[r\/s\/p\/q]: r\n",
      "AI:p,kane:r\n",
      "You lose!\n",
      "\n",
      "What do your choose\n",
      "\n",
      "[r\/s\/p\/q]: q\n",
      "---------------------TOTAL SCORES---------------------\n",
      "Playing times:\t 6 times\n",
      "Player Wins:\t 1 times\n",
      "AI Wins:\t 2 times\n",
      "Draws:\t\t 3 times\n",
      "======================================================\n",
      "** AI Wins!! **\n",
      "\n",
      "Thank you playing, see ya!\n",
      "Quit the game\n"
     ],
     "output_type":"stream"
    }
   ],
   "metadata":{
    "datalore":{
     "node_id":"vRlAfFWDfT5o27zwR0xt1n",
     "type":"CODE",
     "hide_input_from_viewers":false,
     "hide_output_from_viewers":false,
     "report_properties":{
      "x":0,
      "y":42,
      "height":13,
      "splitHeight":3
     }
    }
   }
  },
  {
   "cell_type":"markdown",
   "source":[
    "## HOMEWORK: II. ATM (OOP) \n",
    " *Method*\n",
    "- Check_balance\n",
    "- Deposit\n",
    "- Withdrawal\n",
    "- Transfer\n",
    "- Change_pin\n",
    "- Change_name"
   ],
   "attachments":{
    
   },
   "metadata":{
    "datalore":{
     "node_id":"ia0OWiQcwtHOCOEFzxsVem",
     "type":"MD",
     "hide_input_from_viewers":false,
     "hide_output_from_viewers":false,
     "report_properties":{
      "x":0,
      "y":55,
      "height":8,
      "splitHeight":2
     }
    }
   }
  },
  {
   "cell_type":"code",
   "source":[
    "\n",
    "class ATM:\n",
    "    # double underscore => dunder\n",
    "    def __init__(self, name,pin:str,balance:float):\n",
    "        self.name = name\n",
    "        self.pin = pin\n",
    "        self.balance = balance\n",
    "        print(f'Hello {name}, You have succesfully opened an account!')\n",
    "\n",
    "    def check_balance(self):\n",
    "            print(f'Your current balance is: {self.balance}')\n",
    "    \n",
    "    def deposit(self, money:float):\n",
    "            self.balance += money \n",
    "            print(\"Deposit successfully.\")\n",
    "            self.check_balance()\n",
    "\n",
    "    def withdrawal(self,money:float):\n",
    "        if self.balance >= money:\n",
    "            self.balance -= money \n",
    "            print(\"Withdrawal successfully.\")\n",
    "            self.check_balance()\n",
    "        else:\n",
    "            print(\"Sorry, you don't have enough money :(\")\n",
    "\n",
    "    def transfer(self,money:float,payee:str):\n",
    "        if self.balance >= money:\n",
    "            self.balance -= money\n",
    "            print(f\"Transfer to {payee}, {money} THB.\")\n",
    "            self.check_balance()\n",
    "        else:\n",
    "            print(\"Sorry, you don't have enough money :(\")\n",
    "\n",
    "    def change_pin(self,new_pin,re_new_pin):\n",
    "        self.pin = new_pin\n",
    "        self.re_new_pin = re_new_pin\n",
    "        if self.pin == self.re_new_pin:\n",
    "            print(\"Your PIN was sucessfully changed\")\n",
    "        else:\n",
    "            print(\"Your PIN dose not match\")\n",
    "\n",
    "    def change_name(self, new_acc_name):\n",
    "        self.name = new_acc_name \n",
    "        print(f\"New Name: {self.name}\")\n",
    "        print(\"Your account name has been changed.\")\n",
    "\n",
    "    def login(self):\n",
    "        if self.pin == input(\"Please Enter your pin[6 digits]: \"):\n",
    "            print()\n",
    "            print(\"\"\"press 1 Check balance\\npress 2 Deposit\\npress 3 Withdrawal\\npress 4 Transfer\\npress 5 Change pin\\npress 6 Change name\\npress 0 Exit\"\"\")\n",
    "            print()\n",
    "            while True:\n",
    "                action = input(\"Please press number to select transaction:\")\n",
    "                if action == \"1\":\n",
    "                    self.check_balance()\n",
    "                    print(\"\\nDo you want to continue?<press number>\\n\")\n",
    "                if action == \"2\":\n",
    "                    money = int(input(\"Please input money:\"))\n",
    "                    self.deposit(money)\n",
    "                    print(\"\\nDo you want to continue?<press number>\\n\")\n",
    "                if action == \"3\":\n",
    "                    money = int(input(\"Please input money:\"))\n",
    "                    self.withdrawal(money)\n",
    "                    print(\"\\nDo you want to continue?<press number>\\n\")     \n",
    "                if action == \"4\":\n",
    "                    money = int(input(\"Please input money:\"))\n",
    "                    payee = input(\"Enter name: \")\n",
    "                    self.transfer(money,payee)\n",
    "                    print(\"\\nDo you want to continue?<press number>\\n\")   \n",
    "                if action == \"5\":\n",
    "                    print(\"Change your PIN code\")\n",
    "                    new_pin = input(\"Enter New PIN: \")\n",
    "                    re_new_pin = input(\"Re-enter New PIN: \")\n",
    "                    self.change_pin(new_pin,re_new_pin)\n",
    "                if action == \"6\":\n",
    "                    print(\"Change your Name\")\n",
    "                    new_acc_name = input(\"Enter New Name: \")\n",
    "                    self.change_name(new_acc_name)\n",
    "                if action == \"0\":\n",
    "                    print(\"Thank You For Using Banking Services\")\n",
    "                    break\n",
    "                else:\n",
    "                    pass\n",
    "        else:\n",
    "            print(\"Password is not correct please try again\")\n",
    "\n"
   ],
   "execution_count":null,
   "outputs":[
    
   ],
   "metadata":{
    "datalore":{
     "node_id":"yFxadj2kNZ2hlDhKxFgrzd",
     "type":"CODE",
     "hide_input_from_viewers":false,
     "hide_output_from_viewers":false,
     "report_properties":{
      "x":0,
      "y":63,
      "height":42,
      "splitHeight":41
     }
    }
   }
  },
  {
   "cell_type":"code",
   "source":[
    "atm1 = ATM('Ken','123456',15000)"
   ],
   "execution_count":null,
   "outputs":[
    {
     "name":"stdout",
     "text":[
      "Hello Ken, You have succesfully opened an account!\n"
     ],
     "output_type":"stream"
    }
   ],
   "metadata":{
    "datalore":{
     "node_id":"8p7450dXfh7jOyeaUyGy4L",
     "type":"CODE",
     "hide_input_from_viewers":false,
     "hide_output_from_viewers":false,
     "report_properties":{
      "x":0,
      "y":105,
      "height":5,
      "splitHeight":3
     }
    }
   }
  },
  {
   "cell_type":"markdown",
   "source":[
    "### Login with PIN \/ Check_balance \/ Deposit \/ Withdrawal \/ Transfer"
   ],
   "attachments":{
    
   },
   "metadata":{
    "datalore":{
     "node_id":"y00sGBGW59hKheGGbBm2BD",
     "type":"MD",
     "hide_input_from_viewers":true,
     "hide_output_from_viewers":false,
     "report_properties":{
      "x":0,
      "y":110,
      "width":1,
      "height":3,
      "splitHeight":2
     }
    }
   }
  },
  {
   "cell_type":"code",
   "source":[
    "atm1.login()"
   ],
   "execution_count":null,
   "outputs":[
    {
     "name":"stdout",
     "text":[
      "Please Enter your pin[6 digits]:  123456\n",
      "\n",
      "press 1 Check balance\n",
      "press 2 Deposit\n",
      "press 3 Withdrawal\n",
      "press 4 Transfer\n",
      "press 5 Change pin\n",
      "press 6 Change name\n",
      "press 0 Exit\n",
      "\n",
      "Please press number to select transaction: 1\n",
      "Your current balance is: 15000\n",
      "\n",
      "Do you want to continue?<press number>\n",
      "\n",
      "Please press number to select transaction: 2\n",
      "Please input money: 15000\n",
      "Deposit successfully.\n",
      "Your current balance is: 30000\n",
      "\n",
      "Do you want to continue?<press number>\n",
      "\n",
      "Please press number to select transaction: 3\n",
      "Please input money: 25000\n",
      "Withdrawal successfully.\n",
      "Your current balance is: 5000\n",
      "\n",
      "Do you want to continue?<press number>\n",
      "\n",
      "Please press number to select transaction: 4\n",
      "Please input money: 1000\n",
      "Enter name:  ad_Toy\n",
      "Transfer to ad_Toy, 1000 THB.\n",
      "Your current balance is: 4000\n",
      "\n",
      "Do you want to continue?<press number>\n",
      "\n",
      "Please press number to select transaction: 0\n",
      "Thank You For Using Banking Services\n"
     ],
     "output_type":"stream"
    }
   ],
   "metadata":{
    "datalore":{
     "node_id":"vFbsJXdp5e0OVGsoN7Zbgt",
     "type":"CODE",
     "hide_input_from_viewers":false,
     "hide_output_from_viewers":false,
     "report_properties":{
      "x":0,
      "y":113,
      "height":13,
      "splitHeight":3
     }
    }
   }
  },
  {
   "cell_type":"markdown",
   "source":[
    "### Change PIN and Name"
   ],
   "attachments":{
    
   },
   "metadata":{
    "datalore":{
     "node_id":"iZ4QujYoHZrMUoJrwfXueh",
     "type":"MD",
     "hide_input_from_viewers":true,
     "hide_output_from_viewers":false,
     "report_properties":{
      "x":0,
      "y":126,
      "height":3,
      "splitHeight":2
     }
    }
   }
  },
  {
   "cell_type":"code",
   "source":[
    "old_name = atm1.name\n",
    "ole_pin = atm1.pin\n",
    "atm1.login()"
   ],
   "execution_count":null,
   "outputs":[
    {
     "name":"stdout",
     "text":[
      "Please Enter your pin[6 digits]:  123456\n",
      "\n",
      "press 1 Check balance\n",
      "press 2 Deposit\n",
      "press 3 Withdrawal\n",
      "press 4 Transfer\n",
      "press 5 Change pin\n",
      "press 6 Change name\n",
      "press 0 Exit\n",
      "\n",
      "Please press number to select transaction: 5\n",
      "Change your PIN code\n",
      "Enter New PIN:  987654\n",
      "Re-enter New PIN:  987654\n",
      "Your PIN was sucessfully changed\n",
      "Please press number to select transaction: 6\n",
      "Change your Name\n",
      "Enter New Name:  Kane.P\n",
      "New Name: Kane.P\n",
      "Your account name has been changed.\n",
      "Please press number to select transaction: 0\n",
      "Thank You For Using Banking Services\n"
     ],
     "output_type":"stream"
    }
   ],
   "metadata":{
    "datalore":{
     "node_id":"cmyj4fh39RbeZgTEh3LNLx",
     "type":"CODE",
     "hide_input_from_viewers":false,
     "hide_output_from_viewers":false,
     "report_properties":{
      "x":0,
      "y":129,
      "height":14,
      "splitHeight":4
     }
    }
   }
  },
  {
   "cell_type":"code",
   "source":[
    "print(old_name , ole_pin)\n",
    "print(atm1.name , atm1.pin)"
   ],
   "execution_count":null,
   "outputs":[
    {
     "name":"stdout",
     "text":[
      "Ken 123456\n",
      "Kane.P 987654\n"
     ],
     "output_type":"stream"
    }
   ],
   "metadata":{
    "datalore":{
     "node_id":"yGFRfRREu7ciZpeemeYfi2",
     "type":"CODE",
     "hide_input_from_viewers":false,
     "hide_output_from_viewers":false,
     "report_properties":{
      "x":0,
      "y":143,
      "height":6,
      "splitHeight":4
     }
    }
   }
  }
 ],
 "metadata":{
  "kernelspec":{
   "display_name":"Python",
   "language":"python",
   "name":"python"
  },
  "datalore":{
   "version":1,
   "computation_mode":"JUPYTER",
   "package_manager":"pip",
   "base_environment":"default",
   "packages":[
    
   ]
  }
 },
 "nbformat":4,
 "nbformat_minor":4
}